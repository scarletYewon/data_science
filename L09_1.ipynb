{
  "nbformat": 4,
  "nbformat_minor": 0,
  "metadata": {
    "colab": {
      "provenance": [],
      "collapsed_sections": []
    },
    "kernelspec": {
      "name": "python3",
      "display_name": "Python 3"
    },
    "language_info": {
      "name": "python"
    }
  },
  "cells": [
    {
      "cell_type": "code",
      "execution_count": null,
      "metadata": {
        "id": "A-fWto8BZYdm",
        "colab": {
          "base_uri": "https://localhost:8080/"
        },
        "outputId": "a28b7ff8-fdd8-4b87-9098-b10bd8b8a770"
      },
      "outputs": [
        {
          "output_type": "stream",
          "name": "stdout",
          "text": [
            "Mounted at /content/gdrive\n"
          ]
        }
      ],
      "source": [
        "#구글 드라이브 연결하기\n",
        "from google.colab import drive\n",
        "drive.mount(\"/content/gdrive\")"
      ]
    },
    {
      "cell_type": "code",
      "source": [
        "#필요한 모듈\n",
        "import torch\n",
        "import pandas as pd\n",
        "import torch.nn.functional as F\n",
        "import matplotlib.pyplot as plt"
      ],
      "metadata": {
        "id": "XQn92kNdbKTr"
      },
      "execution_count": null,
      "outputs": []
    },
    {
      "cell_type": "code",
      "source": [
        "# pandas를 이용하여 파일 불러오기\n",
        "train = pd.read_csv(\"/content/gdrive/MyDrive/ml-100k/ua.base\",\n",
        "                    sep=\"\\t\", names=[\"user\",\"movie\",\"rating\",\"timestamp\"])\n",
        "test = pd.read_csv(\"/content/gdrive/MyDrive/ml-100k/ua.test\",\n",
        "                   sep=\"\\t\", names=[\"user\", \"movie\", \"rating\", \"timestamp\"])"
      ],
      "metadata": {
        "id": "5T6bPqnqbfdA"
      },
      "execution_count": null,
      "outputs": []
    },
    {
      "cell_type": "code",
      "source": [
        "# 파일 불러오기\n",
        "# pytorch tensor데이터로 변환\n",
        "items = torch.tensor(train['movie'], dtype=torch.long)\n",
        "users = torch.tensor(train['user'], dtype=torch.long)\n",
        "ratings = torch.tensor(train['rating'], dtype=torch.float)\n",
        "\n",
        "items_test = torch.tensor(test['movie'], dtype=torch.long)\n",
        "users_test = torch.tensor(test['user'], dtype=torch.long)\n",
        "ratings_test = torch.tensor(test['rating'], dtype=torch.float)"
      ],
      "metadata": {
        "id": "eMXbMMXQc84C"
      },
      "execution_count": null,
      "outputs": []
    },
    {
      "cell_type": "code",
      "source": [
        "rank = 10 #사용자vector, 아이템 vector의 차원\n",
        "numUsers = users.max() + 1 #사용자수\n",
        "numItems = items.max() + 1 #아이템수\n",
        "\n",
        "P = torch.randn(numItems,rank,requires_grad=True) #아이템 매트릭스\n",
        "Q = torch.randn(numUsers,rank,requires_grad=True) #사용자 매트릭스"
      ],
      "metadata": {
        "id": "gpD28NqHdTtI"
      },
      "execution_count": null,
      "outputs": []
    },
    {
      "cell_type": "code",
      "source": [
        "#Matrix Factorization\n",
        "optimizer = torch.optim.Adam([P,Q], lr=0.1)\n",
        "\n",
        "X = []\n",
        "Y = []\n",
        "Y_test = []\n",
        "\n",
        "for epoch in range(1001):\n",
        "  hypothesis = (P[items]*Q[users]).sum(dim=1)\n",
        "  cost = F.mse_loss(hypothesis, ratings)\n",
        "\n",
        "  optimizer.zero_grad()\n",
        "  cost.backward()\n",
        "  optimizer.step()\n",
        "\n",
        "  with torch.no_grad():\n",
        "    X.append(epoch)\n",
        "    Y.append(cost.item())\n",
        "\n",
        "    hypo_test = (P[items_test] * Q[users_test]).sum(dim=1)\n",
        "    cost_test = F.mse_loss(hypo_test,ratings_test)\n",
        "    \n",
        "    Y_test.append(cost_test)\n",
        "\n",
        "    if epoch % 100 == 0:\n",
        "      print(f\"epoch: {epoch}, cost: {cost.item()}\")"
      ],
      "metadata": {
        "colab": {
          "base_uri": "https://localhost:8080/"
        },
        "id": "0qQwpLH2gSf2",
        "outputId": "6904a519-046e-4931-85a7-7472599cdc0b"
      },
      "execution_count": null,
      "outputs": [
        {
          "output_type": "stream",
          "name": "stdout",
          "text": [
            "epoch: 0, cost: 23.6146240234375\n",
            "epoch: 100, cost: 0.55482417345047\n",
            "epoch: 200, cost: 0.4888986051082611\n",
            "epoch: 300, cost: 0.46891558170318604\n",
            "epoch: 400, cost: 0.4593854248523712\n",
            "epoch: 500, cost: 0.45368850231170654\n",
            "epoch: 600, cost: 0.45008939504623413\n",
            "epoch: 700, cost: 0.4477338492870331\n",
            "epoch: 800, cost: 0.446013867855072\n",
            "epoch: 900, cost: 0.44468143582344055\n",
            "epoch: 1000, cost: 0.4435909390449524\n"
          ]
        }
      ]
    },
    {
      "cell_type": "code",
      "source": [
        "plt.ylabel(\"MSE\")\n",
        "plt.xlabel(\"Epoch\")\n",
        "plt.plot(X,Y, c=\"blue\", label=\"Training MSE\")\n",
        "plt.plot(X,Y_test, c=\"red\", label=\"Test MSE\")\n",
        "\n",
        "plt.legend()\n",
        "plt.show()"
      ],
      "metadata": {
        "colab": {
          "base_uri": "https://localhost:8080/",
          "height": 279
        },
        "id": "hDMz5sP-jEp3",
        "outputId": "a32aad1a-1600-4dd5-d77d-6c736d324777"
      },
      "execution_count": null,
      "outputs": [
        {
          "output_type": "display_data",
          "data": {
            "text/plain": [
              "<Figure size 432x288 with 1 Axes>"
            ],
            "image/png": "[encoded data removed]"
          },
          "metadata": {
            "needs_background": "light"
          }
        }
      ]
    },
    {
      "cell_type": "code",
      "source": [
        "#Regularization 추가하기\n",
        "\n",
        "P = torch.randn(numItems,rank,requires_grad=True) #아이템 매트릭스\n",
        "Q = torch.randn(numUsers,rank,requires_grad=True) #사용자 매트릭스\n",
        "\n",
        "lambda1 = 0.0001\n",
        "lambda2 = 0.0001\n",
        "\n",
        "optimizer = torch.optim.Adam([P,Q], lr=0.1)\n",
        "\n",
        "X = []\n",
        "Y = []\n",
        "Y_test = []\n",
        "\n",
        "for epoch in range(1001):\n",
        "  hypothesis = (P[items]*Q[users]).sum(dim=1)\n",
        "  cost = F.mse_loss(hypothesis, ratings)\n",
        "  loss = cost + lambda1 * torch.sum(P**2) + lambda2 * torch.sum(Q**2)\n",
        "\n",
        "  optimizer.zero_grad()\n",
        "  loss.backward()\n",
        "  optimizer.step()\n",
        "\n",
        "  with torch.no_grad():\n",
        "    X.append(epoch)\n",
        "    Y.append(cost.item())\n",
        "\n",
        "    hypo_test = (P[items_test] * Q[users_test]).sum(dim=1)\n",
        "    cost_test = F.mse_loss(hypo_test,ratings_test)\n",
        "    \n",
        "    Y_test.append(cost_test)\n",
        "\n",
        "    if epoch % 100 == 0:\n",
        "      print(f\"epoch: {epoch}, cost: {cost.item()}\")"
      ],
      "metadata": {
        "id": "6Ku5pT_4lIBZ",
        "colab": {
          "base_uri": "https://localhost:8080/"
        },
        "outputId": "73e25619-8eeb-48ae-90c4-eb9bbf50371a"
      },
      "execution_count": null,
      "outputs": [
        {
          "output_type": "stream",
          "name": "stdout",
          "text": [
            "epoch: 0, cost: 23.323457717895508\n",
            "epoch: 100, cost: 0.6885824799537659\n",
            "epoch: 200, cost: 0.6420742273330688\n",
            "epoch: 300, cost: 0.632244884967804\n",
            "epoch: 400, cost: 0.6292194128036499\n",
            "epoch: 500, cost: 0.627800464630127\n",
            "epoch: 600, cost: 0.6269636750221252\n",
            "epoch: 700, cost: 0.6264499425888062\n",
            "epoch: 800, cost: 0.6261818408966064\n",
            "epoch: 900, cost: 0.6260555386543274\n",
            "epoch: 1000, cost: 0.6259905099868774\n"
          ]
        }
      ]
    },
    {
      "cell_type": "code",
      "source": [
        "plt.ylabel(\"MSE\")\n",
        "plt.xlabel(\"Epoch\")\n",
        "plt.plot(X,Y, c=\"blue\", label=\"Training MSE\")\n",
        "plt.plot(X,Y_test, c=\"red\", label=\"Test MSE\")\n",
        "\n",
        "plt.legend()\n",
        "plt.show()"
      ],
      "metadata": {
        "colab": {
          "base_uri": "https://localhost:8080/",
          "height": 279
        },
        "id": "AaDx3bcgmDpw",
        "outputId": "4e289b4f-386e-4dc2-9aae-a19d6dca5777"
      },
      "execution_count": null,
      "outputs": [
        {
          "output_type": "display_data",
          "data": {
            "text/plain": [
              "<Figure size 432x288 with 1 Axes>"
            ],
            "image/png": "[encoded data removed]"
          },
          "metadata": {
            "needs_background": "light"
          }
        }
      ]
    },
    {
      "cell_type": "code",
      "source": [
        "#Bias 추가하기\n",
        "\n",
        "lambda1 = 0.0001\n",
        "lambda2 = 0.0001\n",
        "\n",
        "lambda3 = 0.001\n",
        "lambda4 = 0.001\n",
        "\n",
        "P = torch.randn(numItems,rank,requires_grad=True) #아이템 매트릭스\n",
        "Q = torch.randn(numUsers,rank,requires_grad=True) #사용자 매트릭스\n",
        "\n",
        "bias_item = torch.randn(numItems, requires_grad=True)\n",
        "bias_user = torch.randn(numUsers, requires_grad=True)\n",
        "mean = (ratings.sum() / len(ratings)).item()\n",
        "\n",
        "optimizer = torch.optim.Adam([P,Q, bias_item, bias_user], lr=0.1)\n",
        "\n",
        "X = []\n",
        "Y = []\n",
        "Y_test = []\n",
        "\n",
        "for epoch in range(1001):\n",
        "  hypothesis = torch.sum(P[items] * Q[users], dim=1) + mean + bias_item[items] + bias_user[users]\n",
        "  cost = F.mse_loss(hypothesis, ratings)\n",
        "  loss = cost + lambda1 * torch.sum(P ** 2) + lambda2 * torch.sum(Q ** 2) \\\n",
        "        + lambda3 * torch.sum(bias_item ** 2) + lambda4 * torch.sum(bias_user ** 2)\n",
        "\n",
        "  optimizer.zero_grad()\n",
        "  loss.backward()\n",
        "  optimizer.step()\n",
        "\n",
        "  with torch.no_grad():\n",
        "    X.append(epoch)\n",
        "    Y.append(cost.item())\n",
        "\n",
        "    hypo_test = (P[items_test] * Q[users_test]).sum(dim=1) \\\n",
        "    + mean + bias_item[items_test] + bias_user[users_test]\n",
        "    cost_test = F.mse_loss(hypo_test,ratings_test)\n",
        "    \n",
        "    Y_test.append(cost_test)\n",
        "\n",
        "    if epoch % 100 == 0:\n",
        "      print(f\"epoch: {epoch}, cost: {cost.item()}\")\n",
        "\n",
        "plt.ylabel(\"MSE\")\n",
        "plt.xlabel(\"Epoch\")\n",
        "plt.plot(X,Y, c=\"blue\", label=\"Training MSE\")\n",
        "plt.plot(X,Y_test, c=\"red\", label=\"Test MSE\")\n",
        "plt.legend()\n",
        "plt.show()"
      ],
      "metadata": {
        "colab": {
          "base_uri": "https://localhost:8080/",
          "height": 479
        },
        "id": "uuRF8-WLorS9",
        "outputId": "f87deb85-4037-4246-ccd6-b26306b083fa"
      },
      "execution_count": null,
      "outputs": [
        {
          "output_type": "stream",
          "name": "stdout",
          "text": [
            "epoch: 0, cost: 13.394744873046875\n",
            "epoch: 100, cost: 0.6388673186302185\n",
            "epoch: 200, cost: 0.6084514856338501\n",
            "epoch: 300, cost: 0.6043962240219116\n",
            "epoch: 400, cost: 0.6036228537559509\n",
            "epoch: 500, cost: 0.603183925151825\n",
            "epoch: 600, cost: 0.6028608083724976\n",
            "epoch: 700, cost: 0.602627158164978\n",
            "epoch: 800, cost: 0.6024531722068787\n",
            "epoch: 900, cost: 0.6023067831993103\n",
            "epoch: 1000, cost: 0.6021876335144043\n"
          ]
        },
        {
          "output_type": "display_data",
          "data": {
            "text/plain": [
              "<Figure size 432x288 with 1 Axes>"
            ],
            "image/png": "[encoded data removed]"
          },
          "metadata": {
            "needs_background": "light"
          }
        }
      ]
    }
  ]
}