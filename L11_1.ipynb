{
  "nbformat": 4,
  "nbformat_minor": 0,
  "metadata": {
    "colab": {
      "provenance": []
    },
    "kernelspec": {
      "name": "python3",
      "display_name": "Python 3"
    },
    "language_info": {
      "name": "python"
    }
  },
  "cells": [
    {
      "cell_type": "code",
      "execution_count": 8,
      "metadata": {
        "id": "uZPPoZhbghkE"
      },
      "outputs": [],
      "source": [
        "import matplotlib.pyplot as plt\n",
        "import random\n",
        "from tqdm import tqdm"
      ]
    },
    {
      "cell_type": "code",
      "source": [
        "data = []\n",
        "with open('iris.data') as f:\n",
        "  for line in f:\n",
        "    if line.strip():\n",
        "      item = line.strip().split(\",\")\n",
        "      data.append(([float(val) for val in item[:-1]], item[-1]))\n",
        "\n",
        "species = {s: i for i, s in enumerate(set(d[1] for d in data))}\n",
        "data = [(d[0], species[d[1]]) for d in data]"
      ],
      "metadata": {
        "id": "xnSOowtLhvgk"
      },
      "execution_count": 9,
      "outputs": []
    },
    {
      "cell_type": "code",
      "source": [
        "plt.scatter([d[0][0] for d in data], [d[0][1] for d in data], c=[d[1] for d in data], alpha=0.3)\n",
        "plt.show()"
      ],
      "metadata": {
        "colab": {
          "base_uri": "https://localhost:8080/",
          "height": 268
        },
        "id": "m3q2XltfiUxZ",
        "outputId": "b52b182b-6b92-4545-d6a8-21c3c5bd4d56"
      },
      "execution_count": 10,
      "outputs": [
        {
          "output_type": "display_data",
          "data": {
            "text/plain": [
              "<Figure size 432x288 with 1 Axes>"
            ],
            "image/png": "[encoded data removed]"
          },
          "metadata": {
            "needs_background": "light"
          }
        }
      ]
    },
    {
      "cell_type": "code",
      "source": [
        "def distance(a, b):\n",
        "  s = 0\n",
        "  for i in range(len(a[0])):\n",
        "    s += (a[0][i] - b[0][i]) ** 2\n",
        "  return s ** 0.5"
      ],
      "metadata": {
        "id": "5mZWXtpBioN6"
      },
      "execution_count": 11,
      "outputs": []
    },
    {
      "cell_type": "code",
      "source": [
        "random.shuffle(data)\n",
        "train = data[:-30]\n",
        "test = data[-30:]"
      ],
      "metadata": {
        "id": "7Lz2iTnqjZpa"
      },
      "execution_count": 16,
      "outputs": []
    },
    {
      "cell_type": "code",
      "source": [
        "def knn_classify(k, query, train):\n",
        "  knns = sorted((distance(point, query), point) for point in train)[:k]\n",
        "  # 거리에따라 가중치를 주어 점수 계산\n",
        "  scores = {}\n",
        "  for dist, point in knns:\n",
        "    scores[point[1]] = scores.get(point[1], 0) + 1/(1+dist)\n",
        "  resp, score = max(scores.items(), key=lambda x: x[1])\n",
        "  return resp"
      ],
      "metadata": {
        "id": "GYhSNieci3mz"
      },
      "execution_count": 17,
      "outputs": []
    },
    {
      "cell_type": "code",
      "source": [
        "k = 3\n",
        "correct = sum(1 for t in test if knn_classify(k,t,train) == t[1])\n",
        "accuracy = correct/len(test)\n",
        "print(\"accuracy:\", accuracy)"
      ],
      "metadata": {
        "colab": {
          "base_uri": "https://localhost:8080/"
        },
        "id": "rbhadT3tjAc6",
        "outputId": "fd615c12-262d-4997-d932-b40658f7a0b7"
      },
      "execution_count": 18,
      "outputs": [
        {
          "output_type": "stream",
          "name": "stdout",
          "text": [
            "accuracy: 0.9666666666666667\n"
          ]
        }
      ]
    },
    {
      "cell_type": "code",
      "source": [
        "num_trials = 100\n",
        "train_size = int(len(data) * 0.8)\n",
        "test_size = len(data) - train_size\n",
        "\n",
        "corrects = [0]*20\n",
        "\n",
        "for i in tqdm(range(num_trials)):\n",
        "  \n",
        "  random.shuffle(data)\n",
        "  train = data[:train_size]\n",
        "  test = data[train_size:]\n",
        "\n",
        "  for k in range(1,20):\n",
        "    corrects[k] += sum(1 for t in test if knn_classify(k, t, train) == t[1])\n",
        "\n",
        "for k in range(1,20):\n",
        "  corrects[k] /= num_trials * test_size\n",
        "\n",
        "plt.plot(range(1,20), corrects[1:], '-x')\n",
        "plt.show()"
      ],
      "metadata": {
        "id": "k1tWS-VcjmeN"
      },
      "execution_count": null,
      "outputs": []
    }
  ]
}