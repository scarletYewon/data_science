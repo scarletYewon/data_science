{
  "nbformat": 4,
  "nbformat_minor": 0,
  "metadata": {
    "colab": {
      "provenance": [],
      "collapsed_sections": []
    },
    "kernelspec": {
      "name": "python3",
      "display_name": "Python 3"
    },
    "language_info": {
      "name": "python"
    }
  },
  "cells": [
    {
      "cell_type": "code",
      "execution_count": null,
      "metadata": {
        "id": "gNLx0wwCtLhq"
      },
      "outputs": [],
      "source": [
        "#line chart\n",
        "import matplotlib.pyplot as plt\n",
        "\n",
        "years = [1950,1960,1970,1980,1990,2000,2010]\n",
        "gdp = [300.2, 543.3, 1075.9, 2862.5, 5979.6, 10289.7, 14958.3]\n",
        "\n",
        "# marker\n",
        "# line style = dashed (--), solid(-), dotted(:) \n",
        "plt.plot(years, gdp, color='green', marker='o', linestyle='solid')\n",
        "\n",
        "plt.title(\"Nominal GDP\")\n",
        "plt.ylabel(\"Billions of $\")\n",
        "plt.xlabel(\"Years\")\n",
        "\n",
        "plt.show()"
      ]
    },
    {
      "cell_type": "code",
      "source": [
        "# line chart\n",
        "import matplotlib.pyplot as plt\n",
        "\n",
        "variance = [1,2,4,8,16,32,64,128,256]\n",
        "bias_squared = [256,128,64,32,16,8,4,2,1]\n",
        "total_error = [x+y for x,y in zip(variance, bias_squared)]\n",
        "xs = range(len(variance))\n",
        "\n",
        "plt.plot(xs, variance, 'g-', label='variance')\n",
        "plt.plot(xs, bias_squared, 'r-.', label='bias^2')\n",
        "plt.plot(xs, total_error, 'b:', label='total error')\n",
        "\n",
        "plt.legend(loc=\"upper center\")\n",
        "plt.xlabel(\"model complexity\")\n",
        "plt.xticks([])\n",
        "plt.title(\"The Bias-Variance Trandoff\")\n",
        "plt.show()"
      ],
      "metadata": {
        "id": "3Eco5qt2vyll"
      },
      "execution_count": null,
      "outputs": []
    },
    {
      "cell_type": "code",
      "source": [
        "# bar chart\n",
        "import matplotlib.pyplot as plt\n",
        "\n",
        "movies = [\"Annie Hall\", \"Ben-Hur\", \"Casablanca\", \"Gandhi\", \"West Side Story\"]\n",
        "num_oscars = [5,11,3,8,10]\n",
        "\n",
        "plt.bar(movies, num_oscars)\n",
        "\n",
        "plt.title(\"My Favorite Movies\")\n",
        "plt.ylabel(\"# of Academy Awards\")\n",
        "plt.show()"
      ],
      "metadata": {
        "id": "hAqerzYzxFEz"
      },
      "execution_count": null,
      "outputs": []
    },
    {
      "cell_type": "code",
      "source": [
        "# histogram\n",
        "import matplotlib.pyplot as plt\n",
        "from collections import Counter\n",
        "\n",
        "grades = [83,95,91,87,70,0,85,82,100,67,73,77,0]\n",
        "histogram = Counter(min(90, grade // 10*10) for grade in grades)\n",
        "plt.bar([ x + 5 for x in histogram.keys()], histogram.values(), width = 10, edgecolor = \"black\")\n",
        "plt.xticks(range(0,101,10))\n",
        "plt.xlabel(\"Decile\")\n",
        "plt.ylabel(\"# of Students\")\n",
        "plt.title(\"Distribution of Exam 1 Grades\")\n",
        "plt.show()"
      ],
      "metadata": {
        "id": "mw4fVoi-xmVx"
      },
      "execution_count": null,
      "outputs": []
    },
    {
      "cell_type": "code",
      "source": [
        "# histogram\n",
        "import matplotlib.pyplot as plt\n",
        "\n",
        "grades = [83,95,91,87,70,0,85,82,100,67,73,77,0]\n",
        "\n",
        "x = [0,10,20,30,40,50,60,70,80,90]\n",
        "x = [i+5 for i in x]\n",
        "y = [0]*10\n",
        "for g in grades:\n",
        "\ty[min(9,g//10)] +=1\n",
        "\n",
        "plt.xlabel(\"Decile\")\n",
        "plt.ylabel(\"# of Students\")\n",
        "plt.title(\"Distribution of Exam 1 Grades\")\n",
        "plt.bar(x,y,width=10, edgecolor=\"black\")\n",
        "plt.xticks([0,10,20,30,40,50,60,70,80,90,100])\n",
        "plt.show()"
      ],
      "metadata": {
        "id": "Ira5A4DoyzUW"
      },
      "execution_count": null,
      "outputs": []
    },
    {
      "cell_type": "code",
      "source": [
        "# scatterplot\n",
        "import matplotlib.pyplot as plt\n",
        "\n",
        "friends = [70,65,72,63,71,64,60,64,67]\n",
        "minutes = [175,170,205,120,220,130,105,145,190]\n",
        "labels = ['a','b','c','d','e','f','g','h','i']\n",
        "\n",
        "plt.scatter(friends, minutes)\n",
        "\n",
        "for l, f, m in zip(labels, friends, minutes):\n",
        "\tplt.annotate(l, xy=(f,m), xytext=(5,-5), textcoords=\"offset points\")\n",
        "\n",
        "plt.title(\"Daily Minutes vs. Number of Friends\")\n",
        "plt.xlabel(\"# of Friends\")\n",
        "plt.ylabel(\"daily minutes spent of the site\")\n",
        "plt.show()"
      ],
      "metadata": {
        "colab": {
          "base_uri": "https://localhost:8080/",
          "height": 295
        },
        "id": "Es9MTcQX848M",
        "outputId": "b0dc70dd-71c9-4149-db41-894630e9ff34"
      },
      "execution_count": null,
      "outputs": [
        {
          "output_type": "display_data",
          "data": {
            "text/plain": [
              "<Figure size 432x288 with 1 Axes>"
            ],
            "image/png": "[encoded data removed]"
          },
          "metadata": {
            "needs_background": "light"
          }
        }
      ]
    },
    {
      "cell_type": "code",
      "source": [
        "# network visualization\n",
        "import matplotlib.pyplot as plt\n",
        "import networkx as nx\n",
        "\n",
        "G = nx.Graph()\n",
        "\n",
        "G.add_edge('A','B',color='r',weight=1)\n",
        "G.add_edge('A','C',color='g',weight=2)\n",
        "G.add_edge('B','C',color='b',weight=3)\n",
        "G.add_edge('A','E',color='g',weight=4)\n",
        "G.add_edge('B','E',color='g',weight=1)\n",
        "G.add_edge('C','E',color='g',weight=2)\n",
        "G.add_edge('C','D',color='g',weight=3)\n",
        "G.add_edge('D','F',color='g',weight=4)\n",
        "G.add_edge('D','G',color='g',weight=5)\n",
        "G.add_edge('G','F',color='g',weight=6)\n",
        "\n",
        "pos = nx.spring_layout(G)\n",
        "\n",
        "colors = list(nx.get_edge_attributes(G, 'color').values())\n",
        "weights = list(nx.get_edge_attributes(G, 'weight').values())\n",
        "\n",
        "nx.draw(G, pos, edge_color=colors, width=weights, with_labels=True)\n",
        "plt.show()"
      ],
      "metadata": {
        "colab": {
          "base_uri": "https://localhost:8080/",
          "height": 319
        },
        "id": "mrncpH0N9JA0",
        "outputId": "c6c8252c-6623-4eb9-bddc-9fd5db28c721"
      },
      "execution_count": null,
      "outputs": [
        {
          "output_type": "display_data",
          "data": {
            "text/plain": [
              "<Figure size 432x288 with 1 Axes>"
            ],
            "image/png": "[encoded data removed]"
          },
          "metadata": {}
        }
      ]
    }
  ]
}