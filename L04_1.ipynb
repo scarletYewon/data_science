{
  "nbformat": 4,
  "nbformat_minor": 0,
  "metadata": {
    "colab": {
      "provenance": [],
      "collapsed_sections": []
    },
    "kernelspec": {
      "name": "python3",
      "display_name": "Python 3"
    },
    "language_info": {
      "name": "python"
    }
  },
  "cells": [
    {
      "cell_type": "code",
      "source": [
        "# 텐서 만들기\n",
        "import torch\n",
        "x = torch.tensor([[1,2,3],[4,5,6],[7,8,9]], dtype=torch.float)\n",
        "\n",
        "# 텐서의 모양 알아보기\n",
        "print(x.shape)\n",
        "print(x.size())\n",
        "\n",
        "# rank 알아보기\n",
        "print(len(x.shape))\n",
        "print(x.ndimension())\n",
        "print(x.ndim)"
      ],
      "metadata": {
        "id": "EJp5B_wIKDmv"
      },
      "execution_count": null,
      "outputs": []
    },
    {
      "cell_type": "code",
      "source": [
        "print(x)\n",
        "print(x.shape)\n",
        "x0 = torch.unsqueeze(x,0)\n",
        "x1 = torch.unsqueeze(x,1)\n",
        "x2 = torch.unsqueeze(x,2)\n",
        "\n",
        "print(x0)\n",
        "print(x0.shape)\n",
        "print(x1)\n",
        "print(x1.shape)\n",
        "print(x2)\n",
        "print(x2.shape)"
      ],
      "metadata": {
        "id": "K70qjbcbKJH4"
      },
      "execution_count": null,
      "outputs": []
    },
    {
      "cell_type": "code",
      "source": [
        "x02 = torch.unsqueeze(x0, 2)\n",
        "print(x02)\n",
        "print(x02.shape)\n",
        "x02sqz = torch.squeeze(x0)\n",
        "print(x02sqz)\n",
        "print(x02sqz.shape)\n",
        " "
      ],
      "metadata": {
        "id": "HEro1cu8362J"
      },
      "execution_count": null,
      "outputs": []
    },
    {
      "cell_type": "code",
      "source": [
        "xv9 = x.view(1,3,-1)\n",
        "print(x)\n",
        "print(xv9)\n",
        "print(xv9.shape)"
      ],
      "metadata": {
        "id": "VRBID9u3LSny"
      },
      "execution_count": null,
      "outputs": []
    },
    {
      "cell_type": "code",
      "source": [
        "x = torch.tensor([[1,2],[3,4],[5,6]], dtype=torch.float)\n",
        "w = torch.randn(1,2)\n",
        "b = torch.randn(3,1)\n",
        "print(x)\n",
        "print(w)\n",
        "print(b)\n",
        "\n",
        "xwpb = torch.mm(x, w.T) + b\n",
        "print(xwpb)"
      ],
      "metadata": {
        "id": "jZFL4enMMBb6"
      },
      "execution_count": null,
      "outputs": []
    },
    {
      "cell_type": "code",
      "source": [
        "print(x)\n",
        "print(w)\n",
        "print(torch.mm(x, w.T))\n",
        "print((x * w).sum(axis=1).view(3,1))"
      ],
      "metadata": {
        "id": "45p_PHv8OCD_"
      },
      "execution_count": null,
      "outputs": []
    },
    {
      "cell_type": "code",
      "source": [
        "w = torch.tensor(1.0, requires_grad=True)\n",
        "a = w*3\n",
        "l = a**2\n",
        "l.backward()\n",
        "print(w.grad)"
      ],
      "metadata": {
        "id": "GZi3f39KPUvR"
      },
      "execution_count": null,
      "outputs": []
    },
    {
      "cell_type": "code",
      "source": [
        "x = torch.tensor([[1,2],[3,2],[3,7],[1,1],[1,0]], dtype = torch.float)\n",
        "y = torch.tensor([[4],[8],[23],[1],[-2]], dtype = torch.float)\n",
        "\n",
        "W = torch.zeros(2,1)\n",
        "b = torch.zeros(1)\n",
        "\n",
        "# 가설 (hypothesis)\n",
        "\n",
        "lr = 0.01\n",
        "\n",
        "for epoch in range(1000):\n",
        "  W.requires_grad_(True)\n",
        "  b.requires_grad_(True)\n",
        "\n",
        "  h = torch.mm(x, W) + b\n",
        "  cost = torch.mean((h - y) ** 2) # mse\n",
        "\n",
        "  cost.backward()\n",
        "  with torch.no_grad():\n",
        "    W  = W - lr * W.grad\n",
        "    b = b - lr * b.grad\n",
        "\n",
        "    if epoch % 100 == 0:\n",
        "      print(f\"W: {W}, b: {b}, cost: {cost}\")"
      ],
      "metadata": {
        "id": "8NRSOQLmQqbi"
      },
      "execution_count": null,
      "outputs": []
    },
    {
      "cell_type": "code",
      "source": [
        "x_test = torch.tensor([[5,10]], dtype=torch.float)\n",
        "test_result = torch.mm(x_test, W) + b\n",
        "print(test_result)"
      ],
      "metadata": {
        "id": "G_RCvzGj8O8o"
      },
      "execution_count": null,
      "outputs": []
    },
    {
      "cell_type": "code",
      "source": [
        "from sklearn.linear_model import LinearRegression\n",
        "\n",
        "x = [[1,2],[3,2],[3,7],[1,1],[1,0]]\n",
        "y = [[4],[8],[23],[1],[-2]]\n",
        "\n",
        "model = LinearRegression()\n",
        "model.fit(x,y)"
      ],
      "metadata": {
        "colab": {
          "base_uri": "https://localhost:8080/"
        },
        "id": "uLc23sVg9eCM",
        "outputId": "1962a626-5ef9-4487-d2cf-b70ec95cd0ec"
      },
      "execution_count": null,
      "outputs": [
        {
          "output_type": "execute_result",
          "data": {
            "text/plain": [
              "LinearRegression()"
            ]
          },
          "metadata": {},
          "execution_count": 22
        }
      ]
    },
    {
      "cell_type": "code",
      "source": [
        "print(model.coef_, model.intercept_)\n",
        "\n",
        "res = model.predict([[5,10]])\n",
        "print(res)"
      ],
      "metadata": {
        "colab": {
          "base_uri": "https://localhost:8080/"
        },
        "id": "g_RX43vA92Am",
        "outputId": "e2c3f0e6-82b8-4538-e4ef-c09b7d8eba4a"
      },
      "execution_count": null,
      "outputs": [
        {
          "output_type": "stream",
          "name": "stdout",
          "text": [
            "[[2. 3.]] [-4.]\n",
            "[[36.]]\n"
          ]
        }
      ]
    }
  ]
}