{
  "nbformat": 4,
  "nbformat_minor": 0,
  "metadata": {
    "colab": {
      "provenance": [],
      "collapsed_sections": []
    },
    "kernelspec": {
      "name": "python3",
      "display_name": "Python 3"
    },
    "language_info": {
      "name": "python"
    }
  },
  "cells": [
    {
      "cell_type": "code",
      "execution_count": null,
      "metadata": {
        "id": "klreSpuaWhWA"
      },
      "outputs": [],
      "source": [
        "class Vector:\n",
        "  def __init__(self, *lst):\n",
        "    self.data = lst\n",
        "\n",
        "  def __str__(self):\n",
        "    return f\"Vec{self.data}\"\n",
        "\n",
        "  def __add__(self, other):\n",
        "    return Vector(*[a+b for a, b in zip(self.data, other.data)])\n",
        "  \n",
        "  def __sub__(self, other):\n",
        "    return Vector(*[a-b for a, b in zip(self.data, other.data)])\n",
        "\n",
        "  def __mul__(self, other):\n",
        "    if type(other) == Vector:\n",
        "      return sum(a * b for a, b in zip(self.data, other.data))\n",
        "    return Vector(*[a *other for a in self.data])\n",
        "\n",
        "  def __rmul__(self, other):\n",
        "    return Vector(*[a *other for a in self.data])\n",
        "\n",
        "a = Vector(1,2,3)\n",
        "b = Vector(2,3,4)\n",
        "c = a + b\n",
        "d = b - a\n",
        "e = b * 4\n",
        "f = 3 * b\n",
        "g = a * b\n",
        "\n",
        "print(a, b, c, d, e, f, g)"
      ]
    },
    {
      "cell_type": "code",
      "source": [
        "import numpy as np\n",
        "\n",
        "\n",
        "a = np.array([1,2,3])\n",
        "b = np.array([2,3,4])\n",
        "\n",
        "print(a+b)\n",
        "print(a-b)\n",
        "print(a*4)\n",
        "print(a*b)\n",
        "print(a.dot(b))\n",
        "print(sum(a*b))\n",
        "\n",
        "print(np.zeros([3,4]))\n",
        "print(np.ones([3,4]))\n"
      ],
      "metadata": {
        "id": "8c9M54XYIu9N"
      },
      "execution_count": null,
      "outputs": []
    },
    {
      "cell_type": "code",
      "source": [
        "import numpy as np\n",
        "\n",
        "A = np.array([[1,2,3],[4,5,6]])\n",
        "B = np.array([[3,2,1],[1,2,3]])\n",
        "\n",
        "print(A+b)\n",
        "print(A-b)\n",
        "print(A*b) # 원소곱\n",
        "print(B.T) # 전치\n",
        "print(A.dot(B.T)) # 행렬곱"
      ],
      "metadata": {
        "colab": {
          "base_uri": "https://localhost:8080/"
        },
        "id": "5B5RvuM7I6gj",
        "outputId": "4588afbe-0e9f-4b73-bd72-64d1683c5bed"
      },
      "execution_count": null,
      "outputs": [
        {
          "output_type": "stream",
          "name": "stdout",
          "text": [
            "[[ 3  5  7]\n",
            " [ 6  8 10]]\n",
            "[[-1 -1 -1]\n",
            " [ 2  2  2]]\n",
            "[[ 2  6 12]\n",
            " [ 8 15 24]]\n",
            "[[3 1]\n",
            " [2 2]\n",
            " [1 3]]\n",
            "[[10 14]\n",
            " [28 32]]\n"
          ]
        }
      ]
    }
  ]
}